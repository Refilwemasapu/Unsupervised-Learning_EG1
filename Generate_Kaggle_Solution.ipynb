{
 "cells": [
  {
   "cell_type": "markdown",
   "metadata": {},
   "source": [
    "Imports"
   ]
  },
  {
   "cell_type": "code",
   "execution_count": 5,
   "metadata": {},
   "outputs": [],
   "source": [
    "import pandas as pd\n",
    "import os\n",
    "from joblib import Parallel, delayed, load\n",
    "import time"
   ]
  },
  {
   "cell_type": "markdown",
   "metadata": {},
   "source": [
    "Load data and pickled model"
   ]
  },
  {
   "cell_type": "code",
   "execution_count": 6,
   "metadata": {},
   "outputs": [],
   "source": [
    "test_data = pd.read_csv(r\"test.csv\")\n",
    "anime_data = pd.read_csv(r\"anime.csv\")\n",
    "model_knn = load(open(os.path.join(r\"pickles/model_knn.pkl\"), \"rb\"))\n",
    "util_matrix_norm = load(open(os.path.join(r\"pickles/util_matrix_norm.pkl\"), \"rb\"))\n",
    "util_matrix_filtered = load(\n",
    "    open(os.path.join(r\"pickles/util_matrix_filtered.pkl\"), \"rb\")\n",
    ")"
   ]
  },
  {
   "cell_type": "markdown",
   "metadata": {},
   "source": [
    "Define a function to predict user ratings for a particular anime using ratings data on users most similar to the user of interest"
   ]
  },
  {
   "cell_type": "code",
   "execution_count": 7,
   "metadata": {},
   "outputs": [],
   "source": [
    "def predict_rating(user_id, anime_id, sim_threshold=0.0):\n",
    "\n",
    "    try:\n",
    "        # Select the normalised review data for the user of interest\n",
    "        user_data = util_matrix_norm.loc[user_id].to_numpy().reshape(1, -1)\n",
    "\n",
    "        # Determine the indices of the similar users and their cosine distances from the user of interest\n",
    "        sim_distances, sim_user_indices = model_knn.kneighbors(user_data, n_neighbors=21)\n",
    "\n",
    "        # Calculate the similarity scores of the similar users (sim score = 1-distance), convert to a list and remove the first element\n",
    "        sim_scores = (1-sim_distances)[0].tolist()\n",
    "        sim_scores.pop(0)\n",
    "\n",
    "        # Convert the indices for similar users to a list and remove the first element\n",
    "        sim_user_indices = sim_user_indices[0].tolist()\n",
    "        sim_user_indices.pop(0)\n",
    "\n",
    "        # Retrieve the ids of the similar users using the list of indices\n",
    "        sim_user_ids = util_matrix_norm.reset_index().iloc[sim_user_indices]['user_id'].values.tolist()\n",
    "\n",
    "        ratings = []\n",
    "        weights = []\n",
    "\n",
    "        # For every index, id in user_ids\n",
    "        for i, sim_user_id in enumerate(sim_user_ids):\n",
    "            \n",
    "            # Get the similar user's rating for the anime of interest\n",
    "            rating = util_matrix_filtered.loc[sim_user_id, anime_id]\n",
    "\n",
    "            # Get the user's similarity score using the index value\n",
    "            sim_score = sim_scores[i]\n",
    "\n",
    "            # Verify if the user's rating is valid and if the similarity to the target user is below the defined threshold.\n",
    "            # If both conditions are met, append the weighted rating and similarity score to the lists; otherwise, skip this user.\n",
    "            if not pd.isnull(rating) and sim_score > sim_threshold:\n",
    "                ratings.append(rating * sim_score)\n",
    "                weights.append(sim_score)\n",
    "\n",
    "        try:\n",
    "            # Calculate the predicted rating for the user of interest\n",
    "            predicted_rating = sum(ratings) / sum(weights)\n",
    "\n",
    "        except ZeroDivisionError:\n",
    "            # If there are no valid ratings, return the average predicted rating given by all users\n",
    "            predicted_rating = anime_data[anime_data['anime_id'] == anime_id]['rating'].values[0]\n",
    "            \n",
    "    except KeyError:\n",
    "        # If the user ID or anime ID was not present in the training data, return the average predicted given by all users\n",
    "        predicted_rating = anime_data[anime_data['anime_id'] == anime_id]['rating'].values[0]\n",
    "\n",
    "    return predicted_rating"
   ]
  },
  {
   "cell_type": "code",
   "execution_count": 10,
   "metadata": {},
   "outputs": [],
   "source": [
    "collab_knn_predicted_ratings = test_data.copy()\n",
    "# test_data_sample = test_data.iloc[:1000, :]\n",
    "\n",
    "# Parallel processing using joblib\n",
    "start = time.time()\n",
    "collab_knn_predicted_ratings['rating'] = Parallel(n_jobs=-3)(delayed(predict_rating)(\n",
    "    row['user_id'], row['anime_id'], sim_threshold=0.0) for _, row in collab_knn_predicted_ratings.iterrows())\n",
    "end = time.time()\n",
    "total_time = end - start\n",
    "print(total_time)\n",
    "\n",
    "# Save output to a CSV file\n",
    "collab_knn_predicted_ratings.to_csv('collab_knn_predicted_ratings.csv', header=True, index=False)"
   ]
  }
 ],
 "metadata": {
  "kernelspec": {
   "display_name": "Python 3",
   "language": "python",
   "name": "python3"
  },
  "language_info": {
   "codemirror_mode": {
    "name": "ipython",
    "version": 3
   },
   "file_extension": ".py",
   "mimetype": "text/x-python",
   "name": "python",
   "nbconvert_exporter": "python",
   "pygments_lexer": "ipython3",
   "version": "3.9.13"
  }
 },
 "nbformat": 4,
 "nbformat_minor": 2
}
